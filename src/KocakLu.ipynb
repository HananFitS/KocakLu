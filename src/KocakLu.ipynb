{
  "metadata": {
    "kernelspec": {
      "display_name": "Python 3",
      "language": "python",
      "name": "python3"
    },
    "language_info": {
      "name": "python",
      "version": "3.10.12",
      "mimetype": "text/x-python",
      "codemirror_mode": {
        "name": "ipython",
        "version": 3
      },
      "pygments_lexer": "ipython3",
      "nbconvert_exporter": "python",
      "file_extension": ".py"
    },
    "colab": {
      "provenance": []
    }
  },
  "nbformat_minor": 0,
  "nbformat": 4,
  "cells": [
    {
      "cell_type": "markdown",
      "source": [
        "# IF3070 Foundations of Artificial Intelligence | Tugas Besar 2\n",
        "\n",
        "This notebook serves as a template for the assignment. Please create a copy of this notebook to complete your work. You can add more code blocks, markdown blocks, or new sections if needed.\n"
      ],
      "metadata": {
        "id": "uR1JW69eLfG_"
      }
    },
    {
      "cell_type": "markdown",
      "source": [
        "Group Number: 31\n",
        "\n",
        "Group Members:\n",
        "- Muhammad Fadhil Atha (18221003)\n",
        "- Nicholas Francis Aditjandra (18221005)\n",
        "- Hanan Fitra Salam (18222133)\n",
        "- Salsabila Azzahra (18222139)"
      ],
      "metadata": {
        "id": "ucbaI5rBLtjJ"
      }
    },
    {
      "cell_type": "markdown",
      "source": [
        "## Import Libraries"
      ],
      "metadata": {
        "id": "GwzsfETHLfHA"
      }
    },
    {
      "cell_type": "code",
      "source": [
        "import pandas as pd\n",
        "import numpy as np\n",
        "from sklearn.model_selection import train_test_split\n",
        "from sklearn.naive_bayes import GaussianNB\n",
        "from sklearn.metrics import classification_report, accuracy_score\n",
        "from sklearn.preprocessing import LabelEncoder\n",
        "import joblib\n",
        "from google.colab import drive\n",
        "from collections import defaultdict"
      ],
      "metadata": {
        "id": "jZJU5W_4LfHB"
      },
      "execution_count": null,
      "outputs": []
    },
    {
      "cell_type": "markdown",
      "source": [
        "## Import Dataset"
      ],
      "metadata": {
        "id": "OKbjLIdYLfHC"
      }
    },
    {
      "cell_type": "code",
      "source": [
        "# Example of reading a csv file from a gdrive link\n",
        "\n",
        "# Take the file id from the gdrive file url\n",
        "# https://drive.google.com/file/d/1ZUtiaty9RPXhpz5F2Sy3dFPHF4YIt5iU/view?usp=sharing => The file id is 1ZUtiaty9RPXhpz5F2Sy3dFPHF4YIt5iU\n",
        "# and then put it in this format:\n",
        "# https://drive.google.com/uc?id={file_id}\n",
        "# Don't forget to change the access to public\n",
        "#https://drive.google.com/file/d/1RAYQm6EeBllh7b1Ul-SBke9XKTxvTE_Z/view?usp=sharing\n",
        "df = pd.read_csv('https://drive.google.com/uc?id=1RAYQm6EeBllh7b1Ul-SBke9XKTxvTE_Z',on_bad_lines='skip')\n",
        "print(df.isnull().sum())\n"
      ],
      "metadata": {
        "id": "-IWFJ-gdLfHD",
        "outputId": "946e2163-bc8a-4561-cafe-89cdd221e90c",
        "colab": {
          "base_uri": "https://localhost:8080/"
        }
      },
      "execution_count": null,
      "outputs": [
        {
          "output_type": "stream",
          "name": "stdout",
          "text": [
            "id                                0\n",
            "FILENAME                      57532\n",
            "URL                           43487\n",
            "URLLength                     60639\n",
            "Domain                        70197\n",
            "DomainLength                  46319\n",
            "IsDomainIP                    42130\n",
            "TLD                           45399\n",
            "CharContinuationRate          48042\n",
            "TLDLegitimateProb             52873\n",
            "URLCharProb                   52071\n",
            "TLDLength                     47731\n",
            "NoOfSubDomain                 44060\n",
            "HasObfuscation                65720\n",
            "NoOfObfuscatedChar            66798\n",
            "ObfuscationRatio              64598\n",
            "NoOfLettersInURL              63338\n",
            "LetterRatioInURL              65746\n",
            "NoOfDegitsInURL               58810\n",
            "DegitRatioInURL               53508\n",
            "NoOfEqualsInURL               61578\n",
            "NoOfQMarkInURL                44101\n",
            "NoOfAmpersandInURL            45387\n",
            "NoOfOtherSpecialCharsInURL    47629\n",
            "SpacialCharRatioInURL         62834\n",
            "IsHTTPS                       49362\n",
            "LineOfCode                    69153\n",
            "LargestLineLength             67928\n",
            "HasTitle                      44579\n",
            "Title                         58247\n",
            "DomainTitleMatchScore         49997\n",
            "URLTitleMatchScore            52216\n",
            "HasFavicon                    58422\n",
            "Robots                        46732\n",
            "IsResponsive                  42542\n",
            "NoOfURLRedirect               67384\n",
            "NoOfSelfRedirect              66715\n",
            "HasDescription                54639\n",
            "NoOfPopup                     43353\n",
            "NoOfiFrame                    49944\n",
            "HasExternalFormSubmit         55592\n",
            "HasSocialNet                  67999\n",
            "HasSubmitButton               61620\n",
            "HasHiddenFields               43795\n",
            "HasPasswordField              66535\n",
            "Bank                          54996\n",
            "Pay                           43174\n",
            "Crypto                        50197\n",
            "HasCopyrightInfo              67345\n",
            "NoOfImage                     50472\n",
            "NoOfCSS                       67134\n",
            "NoOfJS                        60801\n",
            "NoOfSelfRef                   48132\n",
            "NoOfEmptyRef                  42686\n",
            "NoOfExternalRef               69379\n",
            "label                             0\n",
            "dtype: int64\n"
          ]
        }
      ]
    },
    {
      "cell_type": "markdown",
      "source": [
        "# 1. Split Training Set and Validation Set\n",
        "\n",
        "Splitting the training and validation set works as an early diagnostic towards the performance of the model we train. This is done before the preprocessing steps to **avoid data leakage inbetween the sets**. If you want to use k-fold cross-validation, split the data later and do the cleaning and preprocessing separately for each split.\n",
        "\n",
        "Note: For training, you should use the data contained in the `train` folder given by the TA. The `test` data is only used for kaggle submission."
      ],
      "metadata": {
        "id": "gvx-gT3bLfHM"
      }
    },
    {
      "cell_type": "code",
      "source": [
        "X = df.drop(columns=['label'])  # Features\n",
        "y = df['label']\n",
        "X_train, X_val, y_train, y_val = train_test_split(\n",
        "    X, y, test_size=0.2, random_state=42, stratify=y  # Use stratify if classification\n",
        ")\n",
        "print(\"Training data shape:\", X_train.shape)\n",
        "print(\"Validation data shape:\", X_val.shape)"
      ],
      "metadata": {
        "id": "4yWCUFFBLfHM",
        "colab": {
          "base_uri": "https://localhost:8080/"
        },
        "outputId": "5ed99ccd-f9b4-49d3-a45e-2ac723b52410"
      },
      "execution_count": null,
      "outputs": [
        {
          "output_type": "stream",
          "name": "stdout",
          "text": [
            "Training data shape: (112323, 55)\n",
            "Validation data shape: (28081, 55)\n"
          ]
        }
      ]
    },
    {
      "cell_type": "markdown",
      "source": [
        "# 2. Data Cleaning and Preprocessing\n",
        "\n",
        "This step is the first thing to be done once a Data Scientist have grasped a general knowledge of the data. Raw data is **seldom ready for training**, therefore steps need to be taken to clean and format the data for the Machine Learning model to interpret.\n",
        "\n",
        "By performing data cleaning and preprocessing, you ensure that your dataset is ready for model training, leading to more accurate and reliable machine learning results. These steps are essential for transforming raw data into a format that machine learning algorithms can effectively learn from and make predictions.\n",
        "\n",
        "We will give some common methods for you to try, but you only have to **at least implement one method for each process**. For each step that you will do, **please explain the reason why did you do that process. Write it in a markdown cell under the code cell you wrote.**"
      ],
      "metadata": {
        "id": "IC14lmo_LfHN"
      }
    },
    {
      "cell_type": "markdown",
      "source": [
        "## A. Data Cleaning\n",
        "\n",
        "**Data cleaning** is the crucial first step in preparing your dataset for machine learning. Raw data collected from various sources is often messy and may contain errors, missing values, and inconsistencies. Data cleaning involves the following steps:\n",
        "\n",
        "1. **Handling Missing Data:** Identify and address missing values in the dataset. This can include imputing missing values, removing rows or columns with excessive missing data, or using more advanced techniques like interpolation.\n",
        "\n",
        "2. **Dealing with Outliers:** Identify and handle outliers, which are data points significantly different from the rest of the dataset. Outliers can be removed or transformed to improve model performance.\n",
        "\n",
        "3. **Data Validation:** Check for data integrity and consistency. Ensure that data types are correct, categorical variables have consistent labels, and numerical values fall within expected ranges.\n",
        "\n",
        "4. **Removing Duplicates:** Identify and remove duplicate rows, as they can skew the model's training process and evaluation metrics.\n",
        "\n",
        "5. **Feature Engineering**: Create new features or modify existing ones to extract relevant information. This step can involve scaling, normalizing, or encoding features for better model interpretability."
      ],
      "metadata": {
        "id": "p95_A8hSLfHY"
      }
    },
    {
      "cell_type": "markdown",
      "source": [
        "### I. Handling Missing Data\n",
        "\n",
        "Missing data can adversely affect the performance and accuracy of machine learning models. There are several strategies to handle missing data in machine learning:\n",
        "\n",
        "1. **Data Imputation:**\n",
        "\n",
        "    a. **Mean, Median, or Mode Imputation:** For numerical features, you can replace missing values with the mean, median, or mode of the non-missing values in the same feature. This method is simple and often effective when data is missing at random.\n",
        "\n",
        "    b. **Constant Value Imputation:** You can replace missing values with a predefined constant value (e.g., 0) if it makes sense for your dataset and problem.\n",
        "\n",
        "    c. **Imputation Using Predictive Models:** More advanced techniques involve using predictive models to estimate missing values. For example, you can train a regression model to predict missing numerical values or a classification model to predict missing categorical values.\n",
        "\n",
        "2. **Deletion of Missing Data:**\n",
        "\n",
        "    a. **Listwise Deletion:** In cases where the amount of missing data is relatively small, you can simply remove rows with missing values from your dataset. However, this approach can lead to a loss of valuable information.\n",
        "\n",
        "    b. **Column (Feature) Deletion:** If a feature has a large number of missing values and is not critical for your analysis, you can consider removing that feature altogether.\n",
        "\n",
        "3. **Domain-Specific Strategies:**\n",
        "\n",
        "    a. **Domain Knowledge:** In some cases, domain knowledge can guide the imputation process. For example, if you know that missing values are related to a specific condition, you can impute them accordingly.\n",
        "\n",
        "4. **Imputation Libraries:**\n",
        "\n",
        "    a. **Scikit-Learn:** Scikit-Learn provides a `SimpleImputer` class that can handle basic imputation strategies like mean, median, and mode imputation.\n",
        "\n",
        "    b. **Fancyimpute:** Fancyimpute is a Python library that offers more advanced imputation techniques, including matrix factorization, k-nearest neighbors, and deep learning-based methods.\n",
        "\n",
        "The choice of imputation method should be guided by the nature of your data, the amount of missing data, the problem you are trying to solve, and the assumptions you are willing to make."
      ],
      "metadata": {
        "id": "_wruGao9LfHZ"
      }
    },
    {
      "cell_type": "code",
      "source": [
        "numeric_columns = X_train.select_dtypes(include=['float64']).columns\n",
        "\n",
        "\n",
        "for col in numeric_columns:\n",
        "    mean_value = X_train[col].mean()\n",
        "    X_train[col].fillna(mean_value, inplace=True)\n",
        "    X_val[col].fillna(mean_value, inplace=True)\n",
        "\n",
        "\n",
        "object_columns = X_train.select_dtypes(include=['object']).columns\n",
        "\n",
        "for col in object_columns:\n",
        "    most_frequent = X_train[col].mode()[0]\n",
        "    X_train[col].fillna(most_frequent, inplace=True)\n",
        "    X_val[col].fillna(most_frequent, inplace=True)\n",
        "\n",
        "\n",
        "print(\"\\nCleaned Training Data (X_train):\")\n",
        "print(X_train.head())\n",
        "print(\"\\nCleaned Validation Data (X_val):\")\n",
        "print(X_val.head())"
      ],
      "metadata": {
        "id": "ucZNfCkiLfHZ",
        "colab": {
          "base_uri": "https://localhost:8080/"
        },
        "outputId": "dd86e433-8b38-4520-b73d-c3a546a07a4f"
      },
      "execution_count": null,
      "outputs": [
        {
          "output_type": "stream",
          "name": "stdout",
          "text": [
            "\n",
            "Cleaned Training Data (X_train):\n",
            "            id  FILENAME    URL  URLLength  Domain  DomainLength  IsDomainIP  \\\n",
            "135080  226786     17522  67930  27.067934    1111     19.612679    0.000000   \n",
            "97659   163910         0  10621  27.642457    5948     19.612679    0.000000   \n",
            "11488    19126     57069    624  27.642457    1111     19.612679    0.000000   \n",
            "67815   113381     55321   3201  27.642457    1111     19.612679    0.000433   \n",
            "97148   163038     48043  44448  27.067934    1111     17.000000    0.000000   \n",
            "\n",
            "        TLD  CharContinuationRate  TLDLegitimateProb  ...      Bank       Pay  \\\n",
            "135080  117              0.918147           0.522907  ...  0.172711  0.344851   \n",
            "97659   117              1.000000           0.277364  ...  0.000000  0.344851   \n",
            "11488   117              1.000000           0.522907  ...  0.172711  0.344851   \n",
            "67815   117              0.918147           0.079963  ...  0.000000  0.000000   \n",
            "97148   117              0.918147           0.522907  ...  0.172711  0.344851   \n",
            "\n",
            "          Crypto  HasCopyrightInfo  NoOfImage   NoOfCSS     NoOfJS  \\\n",
            "135080  0.034669          1.000000  41.641377  9.703018  14.745090   \n",
            "97659   0.000000          0.750599  41.641377  4.000000  16.428989   \n",
            "11488   0.000000          1.000000  41.641377  9.703018  16.428989   \n",
            "67815   0.000000          0.750599   0.000000  0.000000  16.428989   \n",
            "97148   0.034669          1.000000  41.641377  9.703018  16.428989   \n",
            "\n",
            "        NoOfSelfRef  NoOfEmptyRef  NoOfExternalRef  \n",
            "135080   103.699568      1.000000        77.912883  \n",
            "97659    105.000000      0.000000        27.000000  \n",
            "11488    145.000000      3.769854        77.912883  \n",
            "67815      0.000000      3.769854         1.000000  \n",
            "97148    103.699568      3.769854        35.000000  \n",
            "\n",
            "[5 rows x 55 columns]\n",
            "\n",
            "Cleaned Validation Data (X_val):\n",
            "            id  FILENAME    URL  URLLength  Domain  DomainLength  IsDomainIP  \\\n",
            "110142  184935     15012    160  27.457592    5474     19.171085     0.00013   \n",
            "8967     14951       759  12649  27.457592     279     19.171085     0.00013   \n",
            "136488  229147     14745    160  27.457592   11992     19.171085     0.00013   \n",
            "13834    23077         1    160  27.457592     279     19.171085     0.00013   \n",
            "75770   126794      9690    160  27.457592     279     19.171085     0.00013   \n",
            "\n",
            "        TLD  CharContinuationRate  TLDLegitimateProb  ...      Bank      Pay  \\\n",
            "110142   72              0.955414           0.277364  ...  0.085786  0.18826   \n",
            "8967     72              0.955414           0.277364  ...  0.085786  0.18826   \n",
            "136488   72              0.955414           0.277364  ...  0.085786  0.18826   \n",
            "13834    72              0.955414           0.277364  ...  0.085786  0.18826   \n",
            "75770    72              0.955414           0.277364  ...  0.085786  0.18826   \n",
            "\n",
            "          Crypto  HasCopyrightInfo  NoOfImage   NoOfCSS     NoOfJS  \\\n",
            "110142  0.013175          0.848003  31.533526  7.777008  15.814592   \n",
            "8967    0.013175          0.848003  31.533526  7.777008  15.814592   \n",
            "136488  0.013175          0.848003  31.533526  7.777008  15.814592   \n",
            "13834   0.013175          0.848003  31.533526  7.777008  15.814592   \n",
            "75770   0.013175          0.848003  31.533526  7.777008  15.814592   \n",
            "\n",
            "        NoOfSelfRef  NoOfEmptyRef  NoOfExternalRef  \n",
            "110142    80.754782      2.199654        62.019424  \n",
            "8967      80.754782      2.199654        62.019424  \n",
            "136488    80.754782      2.199654        62.019424  \n",
            "13834     80.754782      2.199654        62.019424  \n",
            "75770     80.754782      2.199654        62.019424  \n",
            "\n",
            "[5 rows x 55 columns]\n"
          ]
        },
        {
          "output_type": "stream",
          "name": "stderr",
          "text": [
            "<ipython-input-100-79780a8419ac>:6: FutureWarning: A value is trying to be set on a copy of a DataFrame or Series through chained assignment using an inplace method.\n",
            "The behavior will change in pandas 3.0. This inplace method will never work because the intermediate object on which we are setting values always behaves as a copy.\n",
            "\n",
            "For example, when doing 'df[col].method(value, inplace=True)', try using 'df.method({col: value}, inplace=True)' or df[col] = df[col].method(value) instead, to perform the operation inplace on the original object.\n",
            "\n",
            "\n",
            "  X_train[col].fillna(mean_value, inplace=True)\n",
            "<ipython-input-100-79780a8419ac>:7: FutureWarning: A value is trying to be set on a copy of a DataFrame or Series through chained assignment using an inplace method.\n",
            "The behavior will change in pandas 3.0. This inplace method will never work because the intermediate object on which we are setting values always behaves as a copy.\n",
            "\n",
            "For example, when doing 'df[col].method(value, inplace=True)', try using 'df.method({col: value}, inplace=True)' or df[col] = df[col].method(value) instead, to perform the operation inplace on the original object.\n",
            "\n",
            "\n",
            "  X_val[col].fillna(mean_value, inplace=True)\n"
          ]
        }
      ]
    },
    {
      "cell_type": "markdown",
      "source": [
        "### II. Dealing with Outliers\n",
        "\n",
        "Outliers are data points that significantly differ from the majority of the data. They can be unusually high or low values that do not fit the pattern of the rest of the dataset. Outliers can significantly impact model performance, so it is important to handle them properly.\n",
        "\n",
        "Some methods to handle outliers:\n",
        "1. **Imputation**: Replace with mean, median, or a boundary value.\n",
        "2. **Clipping**: Cap values to upper and lower limits.\n",
        "3. **Transformation**: Use log, square root, or power transformations to reduce their influence.\n",
        "4. **Model-Based**: Use algorithms robust to outliers (e.g., tree-based models, Huber regression)."
      ],
      "metadata": {
        "id": "zgrSMcK75VY_"
      }
    },
    {
      "cell_type": "code",
      "source": [
        "def replace_outliers_with_mean(df, column):\n",
        "\n",
        "    Q1 = df[column].quantile(0.25)\n",
        "    Q3 = df[column].quantile(0.75)\n",
        "    IQR = Q3 - Q1\n",
        "\n",
        "\n",
        "    lower_bound = Q1 - 1.5 * IQR\n",
        "    upper_bound = Q3 + 1.5 * IQR\n",
        "\n",
        "\n",
        "    mean_value = df[column].mean()\n",
        "    df[column] = np.where((df[column] < lower_bound) | (df[column] > upper_bound), mean_value, df[column])\n",
        "\n",
        "    return df[column]\n",
        "\n",
        "\n",
        "numeric_columns = X_train.select_dtypes(include=['float64']).columns\n",
        "\n",
        "\n",
        "for col in numeric_columns:\n",
        "    X_train[col] = replace_outliers_with_mean(X_train, col)\n",
        "\n",
        "\n",
        "for col in numeric_columns:\n",
        "    X_val[col] = replace_outliers_with_mean(X_train, col)\n",
        "\n",
        "\n",
        "print(\"\\nCleaned Training Data (X_train):\")\n",
        "print(X_train.head())\n",
        "\n",
        "print(\"\\nCleaned Validation Data (X_val):\")\n",
        "print(X_val.head())\n"
      ],
      "metadata": {
        "id": "CgbZ6Lv17Uf0",
        "colab": {
          "base_uri": "https://localhost:8080/"
        },
        "outputId": "d23b6a14-7230-47e4-a881-c65beb32ca6e"
      },
      "execution_count": null,
      "outputs": [
        {
          "output_type": "stream",
          "name": "stdout",
          "text": [
            "\n",
            "Cleaned Training Data (X_train):\n",
            "            id  FILENAME    URL  URLLength  Domain  DomainLength  IsDomainIP  \\\n",
            "135080  226786     17522  67930  27.067934    1111     19.612679    0.000000   \n",
            "97659   163910         0  10621  27.642457    5948     19.612679    0.000000   \n",
            "11488    19126     57069    624  27.642457    1111     19.612679    0.000000   \n",
            "67815   113381     55321   3201  27.642457    1111     19.612679    0.000433   \n",
            "97148   163038     48043  44448  27.067934    1111     17.000000    0.000000   \n",
            "\n",
            "        TLD  CharContinuationRate  TLDLegitimateProb  ...      Bank       Pay  \\\n",
            "135080  117              0.918147           0.522907  ...  0.172711  0.344851   \n",
            "97659   117              1.000000           0.277364  ...  0.000000  0.344851   \n",
            "11488   117              1.000000           0.522907  ...  0.172711  0.344851   \n",
            "67815   117              0.918147           0.079963  ...  0.000000  0.000000   \n",
            "97148   117              0.918147           0.522907  ...  0.172711  0.344851   \n",
            "\n",
            "          Crypto  HasCopyrightInfo  NoOfImage   NoOfCSS     NoOfJS  \\\n",
            "135080  0.034669          1.000000  41.641377  9.703018  14.745090   \n",
            "97659   0.000000          0.750599  41.641377  4.000000  16.428989   \n",
            "11488   0.000000          1.000000  41.641377  9.703018  16.428989   \n",
            "67815   0.000000          0.750599   0.000000  0.000000  16.428989   \n",
            "97148   0.034669          1.000000  41.641377  9.703018  16.428989   \n",
            "\n",
            "        NoOfSelfRef  NoOfEmptyRef  NoOfExternalRef  \n",
            "135080   103.699568      1.000000        77.912883  \n",
            "97659    105.000000      0.000000        27.000000  \n",
            "11488    145.000000      3.769854        77.912883  \n",
            "67815      0.000000      3.769854         1.000000  \n",
            "97148    103.699568      3.769854        35.000000  \n",
            "\n",
            "[5 rows x 55 columns]\n",
            "\n",
            "Cleaned Validation Data (X_val):\n",
            "            id    FILENAME                                                URL  \\\n",
            "110142  184935  869415.txt  http://test-mantenimiento-bancaweb.azurewebsit...   \n",
            "8967     14951  129744.txt                    https://www.nonprofitissues.com   \n",
            "136488  229147  853980.txt  http://test-mantenimiento-bancaweb.azurewebsit...   \n",
            "13834    23077  100015.txt  http://test-mantenimiento-bancaweb.azurewebsit...   \n",
            "75770   126794  621175.txt  http://test-mantenimiento-bancaweb.azurewebsit...   \n",
            "\n",
            "        URLLength             Domain  DomainLength  IsDomainIP  TLD  \\\n",
            "110142        NaN  www.grahapada.com           NaN         NaN  com   \n",
            "8967          NaN            ipfs.io           NaN         NaN  com   \n",
            "136488        NaN     www.tcmhof.com           NaN         NaN  com   \n",
            "13834         NaN            ipfs.io           NaN         NaN  com   \n",
            "75770         NaN            ipfs.io           NaN         NaN  com   \n",
            "\n",
            "        CharContinuationRate  TLDLegitimateProb  ...  Bank  Pay  Crypto  \\\n",
            "110142                   NaN                NaN  ...   NaN  NaN     NaN   \n",
            "8967                     NaN                NaN  ...   NaN  NaN     NaN   \n",
            "136488                   NaN                NaN  ...   NaN  NaN     NaN   \n",
            "13834                    NaN                NaN  ...   NaN  NaN     NaN   \n",
            "75770                    NaN                NaN  ...   NaN  NaN     NaN   \n",
            "\n",
            "        HasCopyrightInfo  NoOfImage  NoOfCSS  NoOfJS  NoOfSelfRef  \\\n",
            "110142               NaN        NaN      NaN     NaN          NaN   \n",
            "8967                 NaN        NaN      NaN     NaN          NaN   \n",
            "136488               NaN        NaN      NaN     NaN          NaN   \n",
            "13834                NaN        NaN      NaN     NaN          NaN   \n",
            "75770                NaN        NaN      NaN     NaN          NaN   \n",
            "\n",
            "        NoOfEmptyRef  NoOfExternalRef  \n",
            "110142           NaN              NaN  \n",
            "8967             NaN              NaN  \n",
            "136488           NaN              NaN  \n",
            "13834            NaN              NaN  \n",
            "75770            NaN              NaN  \n",
            "\n",
            "[5 rows x 55 columns]\n"
          ]
        }
      ]
    },
    {
      "cell_type": "markdown",
      "source": [
        "### III. Remove Duplicates\n",
        "Handling duplicate values is crucial because they can compromise data integrity, leading to inaccurate analysis and insights. Duplicate entries can bias machine learning models, causing overfitting and reducing their ability to generalize to new data. They also inflate the dataset size unnecessarily, increasing computational costs and processing times. Additionally, duplicates can distort statistical measures and lead to inconsistencies, ultimately affecting the reliability of data-driven decisions and reporting. Ensuring data quality by removing duplicates is essential for accurate, efficient, and consistent analysis."
      ],
      "metadata": {
        "id": "aO0ZEZ-s6Lu-"
      }
    },
    {
      "cell_type": "code",
      "source": [
        "X_train.drop_duplicates()\n",
        "X_val.drop_duplicates()\n",
        "print(\"\\nCleaned Training Data (X_train):\")\n",
        "print(X_train.head())\n",
        "\n",
        "print(\"\\nCleaned Validation Data (X_val):\")\n",
        "print(X_val.head())"
      ],
      "metadata": {
        "id": "BHCkkZ-v7iF8",
        "colab": {
          "base_uri": "https://localhost:8080/"
        },
        "outputId": "45dcd3ab-56d2-4e53-a2b5-676df0f83471"
      },
      "execution_count": null,
      "outputs": [
        {
          "output_type": "stream",
          "name": "stdout",
          "text": [
            "\n",
            "Cleaned Training Data (X_train):\n",
            "            id  FILENAME    URL  URLLength  Domain  DomainLength  IsDomainIP  \\\n",
            "135080  226786     17522  67930  27.067934    1111     19.612679    0.000000   \n",
            "97659   163910         0  10621  27.642457    5948     19.612679    0.000000   \n",
            "11488    19126     57069    624  27.642457    1111     19.612679    0.000000   \n",
            "67815   113381     55321   3201  27.642457    1111     19.612679    0.000433   \n",
            "97148   163038     48043  44448  27.067934    1111     17.000000    0.000000   \n",
            "\n",
            "        TLD  CharContinuationRate  TLDLegitimateProb  ...      Bank       Pay  \\\n",
            "135080  117              0.918147           0.522907  ...  0.172711  0.344851   \n",
            "97659   117              1.000000           0.277364  ...  0.000000  0.344851   \n",
            "11488   117              1.000000           0.522907  ...  0.172711  0.344851   \n",
            "67815   117              0.918147           0.079963  ...  0.000000  0.000000   \n",
            "97148   117              0.918147           0.522907  ...  0.172711  0.344851   \n",
            "\n",
            "          Crypto  HasCopyrightInfo  NoOfImage   NoOfCSS     NoOfJS  \\\n",
            "135080  0.034669          1.000000  41.641377  9.703018  14.745090   \n",
            "97659   0.000000          0.750599  41.641377  4.000000  16.428989   \n",
            "11488   0.000000          1.000000  41.641377  9.703018  16.428989   \n",
            "67815   0.000000          0.750599   0.000000  0.000000  16.428989   \n",
            "97148   0.034669          1.000000  41.641377  9.703018  16.428989   \n",
            "\n",
            "        NoOfSelfRef  NoOfEmptyRef  NoOfExternalRef  \n",
            "135080   103.699568      1.000000        77.912883  \n",
            "97659    105.000000      0.000000        27.000000  \n",
            "11488    145.000000      3.769854        77.912883  \n",
            "67815      0.000000      3.769854         1.000000  \n",
            "97148    103.699568      3.769854        35.000000  \n",
            "\n",
            "[5 rows x 55 columns]\n",
            "\n",
            "Cleaned Validation Data (X_val):\n",
            "            id    FILENAME                                                URL  \\\n",
            "110142  184935  869415.txt  http://test-mantenimiento-bancaweb.azurewebsit...   \n",
            "8967     14951  129744.txt                    https://www.nonprofitissues.com   \n",
            "136488  229147  853980.txt  http://test-mantenimiento-bancaweb.azurewebsit...   \n",
            "13834    23077  100015.txt  http://test-mantenimiento-bancaweb.azurewebsit...   \n",
            "75770   126794  621175.txt  http://test-mantenimiento-bancaweb.azurewebsit...   \n",
            "\n",
            "        URLLength             Domain  DomainLength  IsDomainIP  TLD  \\\n",
            "110142        NaN  www.grahapada.com           NaN         NaN  com   \n",
            "8967          NaN            ipfs.io           NaN         NaN  com   \n",
            "136488        NaN     www.tcmhof.com           NaN         NaN  com   \n",
            "13834         NaN            ipfs.io           NaN         NaN  com   \n",
            "75770         NaN            ipfs.io           NaN         NaN  com   \n",
            "\n",
            "        CharContinuationRate  TLDLegitimateProb  ...  Bank  Pay  Crypto  \\\n",
            "110142                   NaN                NaN  ...   NaN  NaN     NaN   \n",
            "8967                     NaN                NaN  ...   NaN  NaN     NaN   \n",
            "136488                   NaN                NaN  ...   NaN  NaN     NaN   \n",
            "13834                    NaN                NaN  ...   NaN  NaN     NaN   \n",
            "75770                    NaN                NaN  ...   NaN  NaN     NaN   \n",
            "\n",
            "        HasCopyrightInfo  NoOfImage  NoOfCSS  NoOfJS  NoOfSelfRef  \\\n",
            "110142               NaN        NaN      NaN     NaN          NaN   \n",
            "8967                 NaN        NaN      NaN     NaN          NaN   \n",
            "136488               NaN        NaN      NaN     NaN          NaN   \n",
            "13834                NaN        NaN      NaN     NaN          NaN   \n",
            "75770                NaN        NaN      NaN     NaN          NaN   \n",
            "\n",
            "        NoOfEmptyRef  NoOfExternalRef  \n",
            "110142           NaN              NaN  \n",
            "8967             NaN              NaN  \n",
            "136488           NaN              NaN  \n",
            "13834            NaN              NaN  \n",
            "75770            NaN              NaN  \n",
            "\n",
            "[5 rows x 55 columns]\n"
          ]
        }
      ]
    },
    {
      "cell_type": "markdown",
      "source": [
        "### IV. Feature Engineering\n",
        "\n",
        "**Feature engineering** involves creating new features (input variables) or transforming existing ones to improve the performance of machine learning models. Feature engineering aims to enhance the model's ability to learn patterns and make accurate predictions from the data. It's often said that \"good features make good models.\"\n",
        "\n",
        "1. **Feature Selection:** Feature engineering can involve selecting the most relevant and informative features from the dataset. Removing irrelevant or redundant features not only simplifies the model but also reduces the risk of overfitting.\n",
        "\n",
        "2. **Creating New Features:** Sometimes, the existing features may not capture the underlying patterns effectively. In such cases, engineers create new features that provide additional information. For example:\n",
        "   \n",
        "   - **Polynomial Features:** Engineers may create new features by taking the square, cube, or other higher-order terms of existing numerical features. This can help capture nonlinear relationships.\n",
        "   \n",
        "   - **Interaction Features:** Interaction features are created by combining two or more existing features. For example, if you have features \"length\" and \"width,\" you can create an \"area\" feature by multiplying them.\n",
        "\n",
        "3. **Binning or Discretization:** Continuous numerical features can be divided into bins or categories. For instance, age values can be grouped into bins like \"child,\" \"adult,\" and \"senior.\"\n",
        "\n",
        "4. **Domain-Specific Feature Engineering:** Depending on the domain and problem, engineers may create domain-specific features. For example, in fraud detection, features related to transaction history and user behavior may be engineered to identify anomalies.\n",
        "\n",
        "Feature engineering is both a creative and iterative process. It requires a deep understanding of the data, domain knowledge, and experimentation to determine which features will enhance the model's predictive power."
      ],
      "metadata": {
        "id": "eycPASmMLfHa"
      }
    },
    {
      "cell_type": "code",
      "source": [
        "columns_to_drop = ['FILENAME', 'URL', 'Domain', 'TLD', 'id']\n",
        "\n",
        "X_train = X_train.drop(columns=columns_to_drop, errors='ignore')\n",
        "X_val = X_val.drop(columns=columns_to_drop, errors='ignore')\n",
        "\n",
        "print(\"Selected Features:\")\n",
        "print(X_train.columns.tolist())\n",
        "print(X_val.columns.tolist())\n"
      ],
      "metadata": {
        "id": "UoXEV6wkLfHa",
        "colab": {
          "base_uri": "https://localhost:8080/"
        },
        "outputId": "47513f30-5bf7-4b1e-c15c-e662c09ff847"
      },
      "execution_count": null,
      "outputs": [
        {
          "output_type": "stream",
          "name": "stdout",
          "text": [
            "Selected Features:\n",
            "['URLLength', 'DomainLength', 'IsDomainIP', 'CharContinuationRate', 'TLDLegitimateProb', 'URLCharProb', 'TLDLength', 'NoOfSubDomain', 'HasObfuscation', 'NoOfObfuscatedChar', 'ObfuscationRatio', 'NoOfLettersInURL', 'LetterRatioInURL', 'NoOfDegitsInURL', 'DegitRatioInURL', 'NoOfEqualsInURL', 'NoOfQMarkInURL', 'NoOfAmpersandInURL', 'NoOfOtherSpecialCharsInURL', 'SpacialCharRatioInURL', 'IsHTTPS', 'LineOfCode', 'LargestLineLength', 'HasTitle', 'Title', 'DomainTitleMatchScore', 'URLTitleMatchScore', 'HasFavicon', 'Robots', 'IsResponsive', 'NoOfURLRedirect', 'NoOfSelfRedirect', 'HasDescription', 'NoOfPopup', 'NoOfiFrame', 'HasExternalFormSubmit', 'HasSocialNet', 'HasSubmitButton', 'HasHiddenFields', 'HasPasswordField', 'Bank', 'Pay', 'Crypto', 'HasCopyrightInfo', 'NoOfImage', 'NoOfCSS', 'NoOfJS', 'NoOfSelfRef', 'NoOfEmptyRef', 'NoOfExternalRef']\n",
            "['URLLength', 'DomainLength', 'IsDomainIP', 'CharContinuationRate', 'TLDLegitimateProb', 'URLCharProb', 'TLDLength', 'NoOfSubDomain', 'HasObfuscation', 'NoOfObfuscatedChar', 'ObfuscationRatio', 'NoOfLettersInURL', 'LetterRatioInURL', 'NoOfDegitsInURL', 'DegitRatioInURL', 'NoOfEqualsInURL', 'NoOfQMarkInURL', 'NoOfAmpersandInURL', 'NoOfOtherSpecialCharsInURL', 'SpacialCharRatioInURL', 'IsHTTPS', 'LineOfCode', 'LargestLineLength', 'HasTitle', 'Title', 'DomainTitleMatchScore', 'URLTitleMatchScore', 'HasFavicon', 'Robots', 'IsResponsive', 'NoOfURLRedirect', 'NoOfSelfRedirect', 'HasDescription', 'NoOfPopup', 'NoOfiFrame', 'HasExternalFormSubmit', 'HasSocialNet', 'HasSubmitButton', 'HasHiddenFields', 'HasPasswordField', 'Bank', 'Pay', 'Crypto', 'HasCopyrightInfo', 'NoOfImage', 'NoOfCSS', 'NoOfJS', 'NoOfSelfRef', 'NoOfEmptyRef', 'NoOfExternalRef']\n"
          ]
        }
      ]
    },
    {
      "cell_type": "markdown",
      "source": [
        "## B. Data Preprocessing\n",
        "\n",
        "**Data preprocessing** is a broader step that encompasses both data cleaning and additional transformations to make the data suitable for machine learning algorithms. Its primary goals are:\n",
        "\n",
        "1. **Feature Scaling:** Ensure that numerical features have similar scales. Common techniques include Min-Max scaling (scaling to a specific range) or standardization (mean-centered, unit variance).\n",
        "\n",
        "2. **Encoding Categorical Variables:** Machine learning models typically work with numerical data, so categorical variables need to be encoded. This can be done using one-hot encoding, label encoding, or more advanced methods like target encoding.\n",
        "\n",
        "3. **Handling Imbalanced Classes:** If dealing with imbalanced classes in a binary classification task, apply techniques such as oversampling, undersampling, or using different evaluation metrics to address class imbalance.\n",
        "\n",
        "4. **Dimensionality Reduction:** Reduce the number of features using techniques like Principal Component Analysis (PCA) or feature selection to simplify the model and potentially improve its performance.\n",
        "\n",
        "5. **Normalization:** Normalize data to achieve a standard distribution. This is particularly important for algorithms that assume normally distributed data."
      ],
      "metadata": {
        "id": "xw11_49xLfHb"
      }
    },
    {
      "cell_type": "markdown",
      "source": [
        "### Notes on Preprocessing processes\n",
        "\n",
        "It is advised to create functions or classes that have the same/similar type of inputs and outputs, so you can add, remove, or swap the order of the processes easily. You can implement the functions or classes by yourself\n",
        "\n",
        "or\n",
        "\n",
        "use `sklearn` library. To create a new preprocessing component in `sklearn`, implement a corresponding class that includes:\n",
        "1. Inheritance to `BaseEstimator` and `TransformerMixin`\n",
        "2. The method `fit`\n",
        "3. The method `transform`"
      ],
      "metadata": {
        "id": "rVyVnA1hLfHd"
      }
    },
    {
      "cell_type": "code",
      "source": [
        "# Example\n",
        "\n",
        "# from sklearn.base import BaseEstimator, TransformerMixin\n",
        "\n",
        "# class FeatureEncoder(BaseEstimator, TransformerMixin):\n",
        "\n",
        "#     def fit(self, X, y=None):\n",
        "\n",
        "#         # Fit the encoder here\n",
        "\n",
        "#         return self\n",
        "\n",
        "#     def transform(self, X):\n",
        "#         X_encoded = X.copy()\n",
        "\n",
        "#         # Encode the categorical variables here\n",
        "\n",
        "#         return X_encoded\n",
        "from sklearn.base import BaseEstimator, TransformerMixin\n",
        "import pandas as pd\n",
        "\n",
        "class FeatureEncoder(BaseEstimator, TransformerMixin):\n",
        "\n",
        "    def __init__(self, fill_value='missing', one_hot_columns=None):\n",
        "        self.fill_value = fill_value\n",
        "        self.one_hot_columns = one_hot_columns\n",
        "        self._one_hot_encoders = {}\n",
        "\n",
        "    def fit(self, X, y=None):\n",
        "        X = pd.DataFrame(X)\n",
        "        if self.one_hot_columns is None:\n",
        "            self.one_hot_columns = X.select_dtypes(include=['object', 'category']).columns.tolist()\n",
        "        for col in self.one_hot_columns:\n",
        "            self._one_hot_encoders[col] = X[col].fillna(self.fill_value).unique()\n",
        "        return self\n",
        "\n",
        "    def transform(self, X):\n",
        "        X = pd.DataFrame(X)\n",
        "        X_encoded = X.copy()\n",
        "        X_encoded.fillna(self.fill_value, inplace=True)\n",
        "        for col in self.one_hot_columns:\n",
        "            if col in X_encoded:\n",
        "                one_hot_df = pd.get_dummies(\n",
        "                    X_encoded[col],\n",
        "                    prefix=col,\n",
        "                    drop_first=False,\n",
        "                    dtype=int\n",
        "                )\n",
        "                X_encoded = pd.concat([X_encoded.drop(columns=[col]), one_hot_df], axis=1)\n",
        "        return X_encoded\n",
        "\n",
        "df = pd.read_csv('https://drive.google.com/uc?id=1RAYQm6EeBllh7b1Ul-SBke9XKTxvTE_Z', on_bad_lines='skip')\n",
        "data = df[['TLD', 'Robots']]\n",
        "\n",
        "print(data.head())\n",
        "\n",
        "encoder = FeatureEncoder(fill_value=0)\n",
        "encoder.fit(data)\n",
        "transformed_data = encoder.transform(data)\n",
        "\n",
        "print(transformed_data.head())"
      ],
      "metadata": {
        "id": "WbxHt-5eKz_I",
        "colab": {
          "base_uri": "https://localhost:8080/"
        },
        "outputId": "283c732f-9c36-44c0-e98a-540918842360"
      },
      "execution_count": null,
      "outputs": [
        {
          "output_type": "stream",
          "name": "stdout",
          "text": [
            "   TLD  Robots\n",
            "0  NaN     0.0\n",
            "1   to     NaN\n",
            "2   au     0.0\n",
            "3  com     0.0\n",
            "4  NaN     1.0\n",
            "   Robots  TLD_0  TLD_108  TLD_12  TLD_121  TLD_128  TLD_13  TLD_134  TLD_140  \\\n",
            "0     0.0      1        0       0        0        0       0        0        0   \n",
            "1     0.0      0        0       0        0        0       0        0        0   \n",
            "2     0.0      0        0       0        0        0       0        0        0   \n",
            "3     0.0      0        0       0        0        0       0        0        0   \n",
            "4     1.0      1        0       0        0        0       0        0        0   \n",
            "\n",
            "   TLD_146  ...  TLD_wtf  TLD_xn--p1ai  TLD_xyz  TLD_ye  TLD_yoga  \\\n",
            "0        0  ...        0             0        0       0         0   \n",
            "1        0  ...        0             0        0       0         0   \n",
            "2        0  ...        0             0        0       0         0   \n",
            "3        0  ...        0             0        0       0         0   \n",
            "4        0  ...        0             0        0       0         0   \n",
            "\n",
            "   TLD_youtube  TLD_za  TLD_zm  TLD_zone  TLD_zw  \n",
            "0            0       0       0         0       0  \n",
            "1            0       0       0         0       0  \n",
            "2            0       0       0         0       0  \n",
            "3            0       0       0         0       0  \n",
            "4            0       0       0         0       0  \n",
            "\n",
            "[5 rows x 499 columns]\n"
          ]
        }
      ]
    },
    {
      "cell_type": "markdown",
      "source": [
        "### I. Feature Scaling\n",
        "\n",
        "**Feature scaling** is a preprocessing technique used in machine learning to standardize the range of independent variables or features of data. The primary goal of feature scaling is to ensure that all features contribute equally to the training process and that machine learning algorithms can work effectively with the data.\n",
        "\n",
        "Here are the main reasons why feature scaling is important:\n",
        "\n",
        "1. **Algorithm Sensitivity:** Many machine learning algorithms are sensitive to the scale of input features. If the scales of features are significantly different, some algorithms may perform poorly or take much longer to converge.\n",
        "\n",
        "2. **Distance-Based Algorithms:** Algorithms that rely on distances or similarities between data points, such as k-nearest neighbors (KNN) and support vector machines (SVM), can be influenced by feature scales. Features with larger scales may dominate the distance calculations.\n",
        "\n",
        "3. **Regularization:** Regularization techniques, like L1 (Lasso) and L2 (Ridge) regularization, add penalty terms based on feature coefficients. Scaling ensures that all features are treated equally in the regularization process.\n",
        "\n",
        "Common methods for feature scaling include:\n",
        "\n",
        "1. **Min-Max Scaling (Normalization):** This method scales features to a specific range, typically [0, 1]. It's done using the following formula:\n",
        "\n",
        "   $$X' = \\frac{X - X_{min}}{X_{max} - X_{min}}$$\n",
        "\n",
        "   - Here, $X$ is the original feature value, $X_{min}$ is the minimum value of the feature, and $X_{max}$ is the maximum value of the feature.  \n",
        "<br />\n",
        "<br />\n",
        "2. **Standardization (Z-score Scaling):** This method scales features to have a mean (average) of 0 and a standard deviation of 1. It's done using the following formula:\n",
        "\n",
        "   $$X' = \\frac{X - \\mu}{\\sigma}$$\n",
        "\n",
        "   - $X$ is the original feature value, $\\mu$ is the mean of the feature, and $\\sigma$ is the standard deviation of the feature.  \n",
        "<br />\n",
        "<br />\n",
        "3. **Robust Scaling:** Robust scaling is a method that scales features to the interquartile range (IQR) and is less affected by outliers. It's calculated as:\n",
        "\n",
        "   $$X' = \\frac{X - Q1}{Q3 - Q1}$$\n",
        "\n",
        "   - $X$ is the original feature value, $Q1$ is the first quartile (25th percentile), and $Q3$ is the third quartile (75th percentile) of the feature.  \n",
        "<br />\n",
        "<br />\n",
        "4. **Log Transformation:** In cases where data is highly skewed or has a heavy-tailed distribution, taking the logarithm of the feature values can help stabilize the variance and improve scaling.\n",
        "\n",
        "The choice of scaling method depends on the characteristics of your data and the requirements of your machine learning algorithm. **Min-max scaling and standardization are the most commonly used techniques and work well for many datasets.**\n",
        "\n",
        "Scaling should be applied separately to each training and test set to prevent data leakage from the test set into the training set. Additionally, **some algorithms may not require feature scaling, particularly tree-based models.**"
      ],
      "metadata": {
        "id": "WhCgOl4xLfHb"
      }
    },
    {
      "cell_type": "code",
      "source": [
        "import pandas as pd\n",
        "from sklearn.model_selection import train_test_split\n",
        "from sklearn.preprocessing import MinMaxScaler\n",
        "from sklearn.base import BaseEstimator, TransformerMixin\n",
        "\n",
        "class FeatureScaler(BaseEstimator, TransformerMixin):\n",
        "    def __init__(self, scaler=MinMaxScaler()):\n",
        "        self.scaler = scaler\n",
        "\n",
        "    def fit(self, X, y=None):\n",
        "        X = pd.DataFrame(X)\n",
        "        numerical_columns = X.select_dtypes(include=['float64']).columns\n",
        "        self.scaler.fit(X[numerical_columns])\n",
        "        return self\n",
        "\n",
        "    def transform(self, X):\n",
        "        X = pd.DataFrame(X)\n",
        "        numerical_columns = X.select_dtypes(include=['float64']).columns\n",
        "        return self.scaler.transform(X[numerical_columns])\n",
        "\n",
        "df = pd.read_csv('https://drive.google.com/uc?id=1RAYQm6EeBllh7b1Ul-SBke9XKTxvTE_Z', on_bad_lines='skip')\n",
        "\n",
        "X = df.drop(columns=['label'])\n",
        "y = df['label']\n",
        "\n",
        "print(\"Data Awal:\")\n",
        "print(X.head())\n",
        "\n",
        "X_train, X_val, y_train, y_val = train_test_split(\n",
        "    X, y, test_size=0.2, random_state=42, stratify=y\n",
        ")\n",
        "\n",
        "numerical_columns = X_train.select_dtypes(include=['float64']).columns\n",
        "min_max_scaler = FeatureScaler()\n",
        "X_train[numerical_columns] = min_max_scaler.fit_transform(X_train[numerical_columns])\n",
        "\n",
        "# numerical_columns = df.select_dtypes(include=['float64']).columns\n",
        "# min_max_scaler = FeatureScaler()\n",
        "# df[numerical_columns] = min_max_scaler.fit_transform(df[numerical_columns])\n",
        "\n",
        "print(\"\\nMin-Max Scaled Training Data:\")\n",
        "print(X_train.head())"
      ],
      "metadata": {
        "id": "COef9EbCLfHb",
        "colab": {
          "base_uri": "https://localhost:8080/"
        },
        "outputId": "25960337-883d-488e-9448-046c7af0cdb1"
      },
      "execution_count": null,
      "outputs": [
        {
          "output_type": "stream",
          "name": "stdout",
          "text": [
            "Data Awal:\n",
            "   id     FILENAME                                   URL  URLLength  \\\n",
            "0   1          NaN             https://www.northcm.ac.th       24.0   \n",
            "1   4  8135291.txt                   http://uqr.to/1il1z        NaN   \n",
            "2   5   586561.txt  https://www.woolworthsrewards.com.au       35.0   \n",
            "3   6          NaN                                   NaN       31.0   \n",
            "4  11   412632.txt                                   NaN        NaN   \n",
            "\n",
            "                         Domain  DomainLength  IsDomainIP  TLD  \\\n",
            "0             www.northcm.ac.th          17.0         0.0  NaN   \n",
            "1                           NaN           NaN         NaN   to   \n",
            "2  www.woolworthsrewards.com.au          28.0         0.0   au   \n",
            "3                           NaN           NaN         NaN  com   \n",
            "4        www.nyprowrestling.com          22.0         0.0  NaN   \n",
            "\n",
            "   CharContinuationRate  TLDLegitimateProb  ...  Bank  Pay  Crypto  \\\n",
            "0              0.800000                NaN  ...   NaN  0.0     0.0   \n",
            "1              1.000000           0.000896  ...   NaN  NaN     0.0   \n",
            "2              0.857143                NaN  ...   1.0  1.0     0.0   \n",
            "3              0.562500           0.522907  ...   0.0  1.0     0.0   \n",
            "4              1.000000                NaN  ...   0.0  0.0     0.0   \n",
            "\n",
            "   HasCopyrightInfo  NoOfImage  NoOfCSS  NoOfJS  NoOfSelfRef  NoOfEmptyRef  \\\n",
            "0               1.0        NaN      3.0     NaN         69.0           NaN   \n",
            "1               0.0        NaN      NaN     NaN          NaN           NaN   \n",
            "2               1.0       33.0      7.0     8.0         15.0           NaN   \n",
            "3               1.0       24.0      5.0    14.0          NaN           NaN   \n",
            "4               1.0        NaN      NaN    14.0          NaN           0.0   \n",
            "\n",
            "   NoOfExternalRef  \n",
            "0              NaN  \n",
            "1              1.0  \n",
            "2              2.0  \n",
            "3              NaN  \n",
            "4              NaN  \n",
            "\n",
            "[5 rows x 55 columns]\n",
            "\n",
            "Min-Max Scaled Training Data:\n",
            "            id     FILENAME  \\\n",
            "135080  226786   407798.txt   \n",
            "97659   163910          NaN   \n",
            "11488    19126   820078.txt   \n",
            "67815   113381  8092045.txt   \n",
            "97148   163038   738213.txt   \n",
            "\n",
            "                                                      URL  URLLength  \\\n",
            "135080                          https://www.tetleyusa.com   0.002891   \n",
            "97659                  https://www.atlanticwhiteshark.org   0.005493   \n",
            "11488                                                 NaN        NaN   \n",
            "67815   https://apinchek.protationsacc.eu.org/aprep%d0...        NaN   \n",
            "97148                           https://www.malankara.com   0.002891   \n",
            "\n",
            "                            Domain  DomainLength  IsDomainIP  TLD  \\\n",
            "135080                         NaN           NaN         0.0  NaN   \n",
            "97659   www.atlanticwhiteshark.org           NaN         0.0  NaN   \n",
            "11488                          NaN           NaN         0.0  com   \n",
            "67815                          NaN      0.280899         NaN  NaN   \n",
            "97148                          NaN      0.146067         0.0  com   \n",
            "\n",
            "        CharContinuationRate  TLDLegitimateProb  ...  Bank  Pay  Crypto  \\\n",
            "135080                   NaN            1.00000  ...   NaN  NaN     NaN   \n",
            "97659                   1.00                NaN  ...   0.0  1.0     0.0   \n",
            "11488                   1.00            1.00000  ...   1.0  NaN     0.0   \n",
            "67815                   0.56            0.15292  ...   0.0  0.0     0.0   \n",
            "97148                    NaN            1.00000  ...   NaN  1.0     NaN   \n",
            "\n",
            "        HasCopyrightInfo  NoOfImage   NoOfCSS    NoOfJS  NoOfSelfRef  \\\n",
            "135080               1.0        NaN       NaN  0.002475          NaN   \n",
            "97659                0.0        NaN  0.003842       NaN     0.005246   \n",
            "11488                1.0        NaN       NaN  0.012376     0.007244   \n",
            "67815                0.0        0.0  0.000000  0.000000     0.000000   \n",
            "97148                1.0        NaN       NaN       NaN     0.011590   \n",
            "\n",
            "        NoOfEmptyRef  NoOfExternalRef  \n",
            "135080      0.000205              NaN  \n",
            "97659       0.000000         0.000981  \n",
            "11488            NaN         0.005124  \n",
            "67815            NaN         0.000036  \n",
            "97148            NaN         0.001272  \n",
            "\n",
            "[5 rows x 55 columns]\n"
          ]
        }
      ]
    },
    {
      "cell_type": "markdown",
      "source": [
        "### II. Feature Encoding\n",
        "\n",
        "**Feature encoding**, also known as **categorical encoding**, is the process of converting categorical data (non-numeric data) into a numerical format so that it can be used as input for machine learning algorithms. Most machine learning models require numerical data for training and prediction, so feature encoding is a critical step in data preprocessing.\n",
        "\n",
        "Categorical data can take various forms, including:\n",
        "\n",
        "1. **Nominal Data:** Categories with no intrinsic order, like colors or country names.  \n",
        "\n",
        "2. **Ordinal Data:** Categories with a meaningful order but not necessarily equidistant, like education levels (e.g., \"high school,\" \"bachelor's,\" \"master's\").\n",
        "\n",
        "There are several common methods for encoding categorical data:\n",
        "\n",
        "1. **Label Encoding:**\n",
        "\n",
        "   - Label encoding assigns a unique integer to each category in a feature.\n",
        "   - It's suitable for ordinal data where there's a clear order among categories.\n",
        "   - For example, if you have an \"education\" feature with values \"high school,\" \"bachelor's,\" and \"master's,\" you can encode them as 0, 1, and 2, respectively.\n",
        "<br />\n",
        "<br />\n",
        "2. **One-Hot Encoding:**\n",
        "\n",
        "   - One-hot encoding creates a binary (0 or 1) column for each category in a nominal feature.\n",
        "   - It's suitable for nominal data where there's no inherent order among categories.\n",
        "   - Each category becomes a new feature, and the presence (1) or absence (0) of a category is indicated for each row.\n",
        "<br />\n",
        "<br />\n",
        "3. **Target Encoding (Mean Encoding):**\n",
        "\n",
        "   - Target encoding replaces each category with the mean of the target variable for that category.\n",
        "   - It's often used for classification problems."
      ],
      "metadata": {
        "id": "f_Lh-4JwLfHc"
      }
    },
    {
      "cell_type": "code",
      "source": [
        "from sklearn.base import BaseEstimator, TransformerMixin\n",
        "import pandas as pd\n",
        "\n",
        "class FeatureEncoder(BaseEstimator, TransformerMixin):\n",
        "\n",
        "    def __init__(self, fill_value='missing', one_hot_columns=None):\n",
        "        self.fill_value = fill_value\n",
        "        self.one_hot_columns = one_hot_columns\n",
        "        self._one_hot_encoders = {}\n",
        "\n",
        "    def fit(self, X, y=None):\n",
        "        X = pd.DataFrame(X)\n",
        "        if self.one_hot_columns is None:\n",
        "            self.one_hot_columns = X.select_dtypes(include=['object', 'category']).columns.tolist()\n",
        "        for col in self.one_hot_columns:\n",
        "            self._one_hot_encoders[col] = X[col].fillna(self.fill_value).unique()\n",
        "        return self\n",
        "\n",
        "    def transform(self, X):\n",
        "        X = pd.DataFrame(X)\n",
        "        X_encoded = X.copy()\n",
        "        X_encoded.fillna(self.fill_value, inplace=True)\n",
        "        for col in self.one_hot_columns:\n",
        "            if col in X_encoded:\n",
        "                one_hot_df = pd.get_dummies(\n",
        "                    X_encoded[col],\n",
        "                    prefix=col,\n",
        "                    drop_first=False,\n",
        "                    dtype=int\n",
        "                )\n",
        "                X_encoded = pd.concat([X_encoded.drop(columns=[col]), one_hot_df], axis=1)\n",
        "        return X_encoded\n",
        "\n",
        "df = pd.read_csv('https://drive.google.com/uc?id=1RAYQm6EeBllh7b1Ul-SBke9XKTxvTE_Z', on_bad_lines='skip')\n",
        "data = df[['TLD', 'Robots']]\n",
        "\n",
        "print(data.head())\n",
        "\n",
        "encoder = FeatureEncoder(fill_value=0)\n",
        "encoder.fit(data)\n",
        "transformed_data = encoder.transform(data)\n",
        "\n",
        "print(transformed_data.head())"
      ],
      "metadata": {
        "id": "psElSUugLfHc",
        "colab": {
          "base_uri": "https://localhost:8080/"
        },
        "outputId": "056ce782-0441-447b-fed5-3481229be830"
      },
      "execution_count": null,
      "outputs": [
        {
          "output_type": "stream",
          "name": "stdout",
          "text": [
            "   TLD  Robots\n",
            "0  NaN     0.0\n",
            "1   to     NaN\n",
            "2   au     0.0\n",
            "3  com     0.0\n",
            "4  NaN     1.0\n",
            "   Robots  TLD_0  TLD_108  TLD_12  TLD_121  TLD_128  TLD_13  TLD_134  TLD_140  \\\n",
            "0     0.0      1        0       0        0        0       0        0        0   \n",
            "1     0.0      0        0       0        0        0       0        0        0   \n",
            "2     0.0      0        0       0        0        0       0        0        0   \n",
            "3     0.0      0        0       0        0        0       0        0        0   \n",
            "4     1.0      1        0       0        0        0       0        0        0   \n",
            "\n",
            "   TLD_146  ...  TLD_wtf  TLD_xn--p1ai  TLD_xyz  TLD_ye  TLD_yoga  \\\n",
            "0        0  ...        0             0        0       0         0   \n",
            "1        0  ...        0             0        0       0         0   \n",
            "2        0  ...        0             0        0       0         0   \n",
            "3        0  ...        0             0        0       0         0   \n",
            "4        0  ...        0             0        0       0         0   \n",
            "\n",
            "   TLD_youtube  TLD_za  TLD_zm  TLD_zone  TLD_zw  \n",
            "0            0       0       0         0       0  \n",
            "1            0       0       0         0       0  \n",
            "2            0       0       0         0       0  \n",
            "3            0       0       0         0       0  \n",
            "4            0       0       0         0       0  \n",
            "\n",
            "[5 rows x 499 columns]\n"
          ]
        }
      ]
    },
    {
      "cell_type": "markdown",
      "source": [
        "### III. Handling Imbalanced Dataset\n",
        "\n",
        "**Handling imbalanced datasets** is important because imbalanced data can lead to several issues that negatively impact the performance and reliability of machine learning models. Here are some key reasons:\n",
        "\n",
        "1. **Biased Model Performance**:\n",
        "\n",
        " - Models trained on imbalanced data tend to be biased towards the majority class, leading to poor performance on the minority class. This can result in misleading accuracy metrics.\n",
        "\n",
        "2. **Misleading Accuracy**:\n",
        "\n",
        " - High overall accuracy can be misleading in imbalanced datasets. For example, if 95% of the data belongs to one class, a model that always predicts the majority class will have 95% accuracy but will fail to identify the minority class.\n",
        "\n",
        "3. **Poor Generalization**:\n",
        "\n",
        " - Models trained on imbalanced data may not generalize well to new, unseen data, especially if the minority class is underrepresented.\n",
        "\n",
        "\n",
        "Some methods to handle imbalanced datasets:\n",
        "1. **Resampling Methods**:\n",
        "\n",
        " - Oversampling: Increase the number of instances in the minority class by duplicating or generating synthetic samples (e.g., SMOTE).\n",
        " - Undersampling: Reduce the number of instances in the majority class to balance the dataset.\n",
        "\n",
        "2. **Evaluation Metrics**:\n",
        "\n",
        " - Use appropriate evaluation metrics such as precision, recall, F1-score, ROC-AUC, and confusion matrix instead of accuracy to better assess model performance on imbalanced data.\n",
        "\n",
        "3. **Algorithmic Approaches**:\n",
        "\n",
        " - Use algorithms that are designed to handle imbalanced data, such as decision trees, random forests, or ensemble methods.\n",
        " - Adjust class weights in algorithms to give more importance to the minority class."
      ],
      "metadata": {
        "id": "jKQO9wtB8Pc0"
      }
    },
    {
      "cell_type": "code",
      "source": [
        "from sklearn.model_selection import train_test_split\n",
        "from sklearn.utils import resample\n",
        "import pandas as pd\n",
        "\n",
        "data = pd.read_csv('https://drive.google.com/uc?id=1RAYQm6EeBllh7b1Ul-SBke9XKTxvTE_Z', on_bad_lines='skip')\n",
        "df = data[['label', 'URL', 'URLLength']]\n",
        "\n",
        "X = df.drop(columns=['label'])\n",
        "y = df['label']\n",
        "\n",
        "df_balanced = pd.concat([X, y], axis=1)\n",
        "\n",
        "majority_class = df_balanced[df_balanced['label'] == 1]\n",
        "minority_class = df_balanced[df_balanced['label'] == 0]\n",
        "\n",
        "\n",
        "majority_class_downsampled = resample(majority_class,\n",
        "                                      replace=False,\n",
        "                                      n_samples=len(minority_class),\n",
        "                                      random_state=42)\n",
        "\n",
        "df_balanced = pd.concat([majority_class_downsampled, minority_class])\n",
        "\n",
        "df_balanced = df_balanced.sample(frac=1, random_state=42).reset_index(drop=True)\n",
        "\n",
        "X_balanced = df_balanced.drop(columns=['label'])\n",
        "y_balanced = df_balanced['label']\n",
        "\n",
        "print(f\"Class Distribution:\\n{y.value_counts()}\")\n",
        "print(f\"\\nResampled Class Distribution:\\n{y_balanced.value_counts()}\")"
      ],
      "metadata": {
        "id": "u2BQd2XJ9W1i",
        "colab": {
          "base_uri": "https://localhost:8080/"
        },
        "outputId": "70e69a34-d3b2-4a0a-fd2c-3b1b0dac9459"
      },
      "execution_count": null,
      "outputs": [
        {
          "output_type": "stream",
          "name": "stdout",
          "text": [
            "Class Distribution:\n",
            "label\n",
            "1    129850\n",
            "0     10554\n",
            "Name: count, dtype: int64\n",
            "\n",
            "Resampled Class Distribution:\n",
            "label\n",
            "1    10554\n",
            "0    10554\n",
            "Name: count, dtype: int64\n"
          ]
        }
      ]
    },
    {
      "cell_type": "markdown",
      "source": [
        "# 3. Compile Preprocessing Pipeline\n",
        "\n",
        "All of the preprocessing classes or functions defined earlier will be compiled in this step."
      ],
      "metadata": {
        "id": "-ctVzt5DLfHd"
      }
    },
    {
      "cell_type": "markdown",
      "source": [
        "If you use sklearn to create preprocessing classes, you can list your preprocessing classes in the Pipeline object sequentially, and then fit and transform your data."
      ],
      "metadata": {
        "id": "S_ZlncSVjJG6"
      }
    },
    {
      "cell_type": "code",
      "source": [
        "# from sklearn.pipeline import Pipeline\n",
        "from sklearn.base import BaseEstimator, TransformerMixin\n",
        "\n",
        "class FeatureEncoder(BaseEstimator, TransformerMixin):\n",
        "# # Note: You can add or delete preprocessing components from this pipeline\n",
        "\n",
        "# pipe = Pipeline([(\"imputer\", FeatureImputer()),\n",
        "#                  (\"featurecreator\", FeatureCreator()),\n",
        "#                  (\"scaler\", FeatureScaler()),\n",
        "#                  (\"encoder\", FeatureEncoder())])\n",
        "\n",
        "# train_set = pipe.fit_transform(train_set)\n",
        "# val_set = pipe.transform(val_set)"
      ],
      "metadata": {
        "id": "jHraoW_7LfHd"
      },
      "execution_count": null,
      "outputs": []
    },
    {
      "cell_type": "code",
      "source": [
        "# # Your code should work up until this point\n",
        "# train_set = pipe.fit_transform(train_set)\n",
        "# val_set = pipe.transform(val_set)"
      ],
      "metadata": {
        "id": "9s56aFFxLfHd"
      },
      "execution_count": null,
      "outputs": []
    },
    {
      "cell_type": "markdown",
      "source": [
        "or create your own here"
      ],
      "metadata": {
        "id": "SXoCqMztjhr-"
      }
    },
    {
      "cell_type": "code",
      "source": [
        "from sklearn.pipeline import Pipeline\n",
        "from sklearn.base import BaseEstimator, TransformerMixin\n",
        "import pandas as pd\n",
        "from sklearn.model_selection import train_test_split\n",
        "from sklearn.preprocessing import MinMaxScaler\n",
        "\n",
        "class FeatureScaler(BaseEstimator, TransformerMixin):\n",
        "    def __init__(self, scaler=MinMaxScaler()):\n",
        "        self.scaler = scaler\n",
        "\n",
        "    def fit(self, X, y=None):\n",
        "        X = pd.DataFrame(X)\n",
        "        numerical_columns = X.select_dtypes(include=['float64']).columns\n",
        "        self.scaler.fit(X[numerical_columns])\n",
        "        return self\n",
        "\n",
        "    def transform(self, X):\n",
        "        X = pd.DataFrame(X)\n",
        "        numerical_columns = X.select_dtypes(include=['float64']).columns\n",
        "        return self.scaler.transform(X[numerical_columns])\n",
        "\n",
        "class FeatureEncoder(BaseEstimator, TransformerMixin):\n",
        "    def __init__(self, fill_value='missing', one_hot_columns=None):\n",
        "        self.fill_value = fill_value\n",
        "        self.one_hot_columns = one_hot_columns\n",
        "        self._one_hot_encoders = {}\n",
        "\n",
        "    def fit(self, X, y=None):\n",
        "        X = pd.DataFrame(X)\n",
        "        if self.one_hot_columns is None:\n",
        "            self.one_hot_columns = X.select_dtypes(include=['object', 'category']).columns.tolist()\n",
        "        for col in self.one_hot_columns:\n",
        "            self._one_hot_encoders[col] = X[col].fillna(self.fill_value).unique()\n",
        "        return self\n",
        "\n",
        "    def transform(self, X):\n",
        "        X = pd.DataFrame(X)\n",
        "        X_encoded = X.copy()\n",
        "        for col in self.one_hot_columns:\n",
        "            if col in X_encoded:\n",
        "                X_encoded[col] = X_encoded[col].fillna(self.fill_value).astype(\"object\")\n",
        "        for col in self.one_hot_columns:\n",
        "            if col in X_encoded:\n",
        "                one_hot_df = pd.get_dummies(\n",
        "                    X_encoded[col],\n",
        "                    prefix=col,\n",
        "                    drop_first=False,\n",
        "                    dtype=int\n",
        "                )\n",
        "                X_encoded = pd.concat([X_encoded.drop(columns=[col]), one_hot_df], axis=1)\n",
        "        return X_encoded\n",
        "\n",
        "df = pd.read_csv('https://drive.google.com/uc?id=1RAYQm6EeBllh7b1Ul-SBke9XKTxvTE_Z', on_bad_lines='skip')\n",
        "\n",
        "X = df.drop(columns=['label'])\n",
        "y = df['label']\n",
        "\n",
        "pipe = Pipeline([(\"scaler\", FeatureScaler()),\n",
        "                 (\"encoder\", FeatureEncoder(fill_value=0))])\n",
        "\n",
        "X_train, X_val, y_train, y_val = train_test_split(\n",
        "    X, y, test_size=0.2, random_state=42, stratify=y\n",
        ")\n",
        "\n",
        "train_set = pipe.fit_transform(X_train)\n",
        "\n",
        "val_set = pipe.transform(X_val)\n",
        "\n",
        "print(\"Training data shape:\", train_set.shape)\n",
        "print(train_set.head())\n",
        "print(\"\\nValidation data shape:\", val_set.shape)\n",
        "print(val_set.head())"
      ],
      "metadata": {
        "id": "7OoZ3oXEj2CW",
        "colab": {
          "base_uri": "https://localhost:8080/"
        },
        "outputId": "8ca64532-3417-4714-c668-9a0ea93cf150"
      },
      "execution_count": null,
      "outputs": [
        {
          "output_type": "stream",
          "name": "stdout",
          "text": [
            "Training data shape: (112323, 49)\n",
            "         0         1    2     3        4         5         6         7    8   \\\n",
            "0  0.002891       NaN  0.0   NaN  1.00000       NaN       NaN  0.166667  0.0   \n",
            "1  0.005493       NaN  0.0  1.00      NaN  0.645354       NaN  0.166667  0.0   \n",
            "2       NaN       NaN  0.0  1.00  1.00000  0.716760       NaN  0.166667  NaN   \n",
            "3       NaN  0.280899  NaN  0.56  0.15292  0.643877  0.090909  0.333333  NaN   \n",
            "4  0.002891  0.146067  0.0   NaN  1.00000  0.755511  0.090909  0.166667  NaN   \n",
            "\n",
            "    9   ...   39   40   41   42   43        44        45        46        47  \\\n",
            "0  NaN  ...  NaN  NaN  NaN  1.0  NaN       NaN  0.002475       NaN  0.000205   \n",
            "1  0.0  ...  0.0  1.0  0.0  0.0  NaN  0.003842       NaN  0.005246  0.000000   \n",
            "2  NaN  ...  1.0  NaN  0.0  1.0  NaN       NaN  0.012376  0.007244       NaN   \n",
            "3  NaN  ...  0.0  0.0  0.0  0.0  0.0  0.000000  0.000000  0.000000       NaN   \n",
            "4  NaN  ...  NaN  1.0  NaN  1.0  NaN       NaN       NaN  0.011590       NaN   \n",
            "\n",
            "         48  \n",
            "0       NaN  \n",
            "1  0.000981  \n",
            "2  0.005124  \n",
            "3  0.000036  \n",
            "4  0.001272  \n",
            "\n",
            "[5 rows x 49 columns]\n",
            "\n",
            "Validation data shape: (28081, 49)\n",
            "         0         1    2    3    4         5         6         7    8    9   \\\n",
            "0       NaN  0.146067  NaN  1.0  1.0  0.681657  0.090909  0.166667  NaN  0.0   \n",
            "1       NaN  0.213483  NaN  1.0  NaN  0.702165       NaN       NaN  0.0  NaN   \n",
            "2       NaN       NaN  NaN  NaN  1.0  0.707543  0.090909  0.166667  0.0  NaN   \n",
            "3  0.003180  0.157303  0.0  1.0  1.0  0.776062  0.090909  0.166667  NaN  NaN   \n",
            "4  0.002313       NaN  NaN  NaN  1.0       NaN       NaN  0.166667  0.0  0.0   \n",
            "\n",
            "   ...   39   40   41   42        43        44        45        46        47  \\\n",
            "0  ...  0.0  1.0  0.0  NaN  0.000916  0.006724       NaN  0.006894  0.000205   \n",
            "1  ...  NaN  0.0  0.0  NaN  0.000393  0.012488  0.004243  0.004446  0.000000   \n",
            "2  ...  NaN  NaN  0.0  1.0  0.004450       NaN  0.001768  0.002498  0.001637   \n",
            "3  ...  0.0  NaN  0.0  NaN  0.003403       NaN  0.013437  0.009092  0.001637   \n",
            "4  ...  NaN  1.0  0.0  NaN  0.017013  0.001921  0.006719  0.004846       NaN   \n",
            "\n",
            "        48  \n",
            "0      NaN  \n",
            "1      NaN  \n",
            "2      NaN  \n",
            "3  0.00149  \n",
            "4  0.00080  \n",
            "\n",
            "[5 rows x 49 columns]\n"
          ]
        },
        {
          "output_type": "stream",
          "name": "stderr",
          "text": [
            "/usr/local/lib/python3.10/dist-packages/sklearn/pipeline.py:62: FutureWarning: This Pipeline instance is not fitted yet. Call 'fit' with appropriate arguments before using other methods such as transform, predict, etc. This will raise an error in 1.8 instead of the current warning.\n",
            "  warnings.warn(\n"
          ]
        }
      ]
    },
    {
      "cell_type": "markdown",
      "source": [
        "# 4. Modeling and Validation\n",
        "\n",
        "Modelling is the process of building your own machine learning models to solve specific problems, or in this assignment context, predicting the target feature `label`. Validation is the process of evaluating your trained model using the validation set or cross-validation method and providing some metrics that can help you decide what to do in the next iteration of development."
      ],
      "metadata": {
        "id": "9A3adbZXLfHe"
      }
    },
    {
      "cell_type": "markdown",
      "source": [
        "## A. KNN"
      ],
      "metadata": {
        "id": "ZnhMNbBILfHf"
      }
    },
    {
      "cell_type": "code",
      "source": [
        "import numpy as np\n",
        "\n",
        "class KNNFromScratch:\n",
        "    def __init__(self, k=3, distance_metric='euclidean'):\n",
        "        self.k = k\n",
        "        self.distance_metric = distance_metric\n",
        "\n",
        "    def euclidean_distance(self, x1, x2):\n",
        "        return np.sqrt(np.sum((x1 - x2) ** 2))\n",
        "\n",
        "    def manhattan_distance(self, x1, x2):\n",
        "        return np.sum(np.abs(x1 - x2))\n",
        "\n",
        "    def fit(self, X_train, y_train):\n",
        "        self.X_train = X_train\n",
        "        self.y_train = y_train\n",
        "\n",
        "        self.X_train_numeric = X_train.select_dtypes(include=['float64', 'int64'])\n",
        "\n",
        "    def predict(self, X_test):\n",
        "        predictions = []\n",
        "\n",
        "        X_test_numeric = X_test.select_dtypes(include=['float64', 'int64'])\n",
        "\n",
        "        for test_point in X_test_numeric.values:\n",
        "            distances = []\n",
        "            for i, train_point in enumerate(self.X_train_numeric.values):\n",
        "                if self.distance_metric == 'euclidean':\n",
        "                    distance = self.euclidean_distance(test_point, train_point)\n",
        "                elif self.distance_metric == 'manhattan':\n",
        "                    distance = self.manhattan_distance(test_point, train_point)\n",
        "                distances.append((distance, i))\n",
        "\n",
        "            distances.sort(key=lambda x: x[0])\n",
        "            k_neighbors = [self.y_train.iloc[i] for _, i in distances[:self.k]]\n",
        "\n",
        "            prediction = max(set(k_neighbors), key=k_neighbors.count)\n",
        "            predictions.append(prediction)\n",
        "\n",
        "        return np.array(predictions)"
      ],
      "metadata": {
        "id": "3XR8lYwCFhdL"
      },
      "execution_count": null,
      "outputs": []
    },
    {
      "cell_type": "markdown",
      "source": [
        "## Scratch"
      ],
      "metadata": {
        "id": "zI-12tbFFdYJ"
      }
    },
    {
      "cell_type": "code",
      "source": [
        "knn_scratch = KNNFromScratch(k=3, distance_metric='euclidean')\n",
        "\n",
        "knn_scratch.fit(X_balanced, y_balanced)\n",
        "\n",
        "y_pred_knn_scratch = knn_scratch.predict(X_val)\n",
        "\n",
        "from sklearn.metrics import accuracy_score, classification_report\n",
        "\n",
        "print(\"Accuracy of KNN from Scratch:\", accuracy_score(y_val, y_pred_knn_scratch))\n",
        "print(\"\\nClassification Report for KNN from Scratch:\\n\", classification_report(y_val, y_pred_knn_scratch))"
      ],
      "metadata": {
        "id": "KV6ICmFmlqjk"
      },
      "execution_count": null,
      "outputs": []
    },
    {
      "cell_type": "markdown",
      "source": [
        "## Scikit-learn"
      ],
      "metadata": {
        "id": "M1eoZ1dNGO5t"
      }
    },
    {
      "cell_type": "code",
      "source": [
        "from sklearn.neighbors import KNeighborsClassifier\n",
        "from sklearn.metrics import accuracy_score, classification_report\n",
        "\n",
        "knn_sklearn = KNeighborsClassifier(n_neighbors=3)\n",
        "\n",
        "knn_sklearn.fit(X_balanced, y_balanced)\n",
        "\n",
        "y_pred_knn_sklearn = knn_sklearn.predict(X_val)\n",
        "\n",
        "print(\"Accuracy of KNN (scikit-learn):\", accuracy_score(y_val, y_pred_knn_sklearn))\n",
        "print(\"\\nClassification Report for KNN (scikit-learn):\\n\", classification_report(y_val, y_pred_knn_sklearn))\n"
      ],
      "metadata": {
        "id": "yjqZgshzGTqT"
      },
      "execution_count": null,
      "outputs": []
    },
    {
      "cell_type": "markdown",
      "source": [
        "## B. Naive Bayes"
      ],
      "metadata": {
        "id": "nW0bMzkDLfHf"
      }
    },
    {
      "cell_type": "code",
      "source": [
        "drive.mount('/content/drive')\n",
        "def encode_categorical_columns(df, encoders=None):\n",
        "    \"\"\"\n",
        "    Encode categorical columns using LabelEncoder.\n",
        "    If encoders are provided, use them; otherwise, create new encoders.\n",
        "    \"\"\"\n",
        "    categorical_columns = df.select_dtypes(include=['object']).columns\n",
        "    encoders = encoders or {}\n",
        "    for col in categorical_columns:\n",
        "        if col not in encoders:\n",
        "            encoders[col] = LabelEncoder()\n",
        "            df[col] = encoders[col].fit_transform(df[col].astype(str))\n",
        "        else:\n",
        "            df[col] = encoders[col].transform(df[col].astype(str))\n",
        "    return df, encoders\n",
        "\n",
        "X_train, label_encoders = encode_categorical_columns(X_train)\n",
        "X_val, _ = encode_categorical_columns(X_val, encoders=label_encoders)\n",
        "\n",
        "model = GaussianNB()\n",
        "model.fit(X_train, y_train)\n",
        "\n",
        "model_path = \"/content/drive/My Drive/TUBES 2 AI/Model/naive_bayes_model.pkl\"\n",
        "encoders_path = \"/content/drive/My Drive/TUBES 2 AI/Model/label_encoders.pkl\"\n",
        "joblib.dump(model, model_path)\n",
        "joblib.dump(label_encoders, encoders_path)\n",
        "print(f\"Model saved to: {model_path}\")\n",
        "print(f\"Encoders saved to: {encoders_path}\")\n",
        "\n",
        "loaded_model = joblib.load(model_path)\n",
        "loaded_encoders = joblib.load(encoders_path)\n",
        "print(\"Model and encoders loaded successfully.\")\n",
        "\n",
        "y_pred = loaded_model.predict(X_val)\n",
        "print(\"Accuracy:\", accuracy_score(y_val, y_pred))\n",
        "print(\"\\nClassification Report:\\n\", classification_report(y_val, y_pred))\n",
        "\n",
        "# Scratch\n",
        "# drive.mount('/content/drive')\n",
        "\n",
        "\n",
        "# class GaussianNaiveBayes:\n",
        "#     def __init__(self):\n",
        "#         self.classes = None\n",
        "#         self.priors = {}\n",
        "#         self.means = {}\n",
        "#         self.variances = {}\n",
        "\n",
        "#     def fit(self, X, y):\n",
        "#         \"\"\"\n",
        "#         Train the Gaussian Naive Bayes model.\n",
        "#         \"\"\"\n",
        "#         self.classes = np.unique(y)\n",
        "#         for cls in self.classes:\n",
        "#             X_cls = X[y == cls]\n",
        "#             self.priors[cls] = len(X_cls) / len(X)\n",
        "#             self.means[cls] = np.mean(X_cls, axis=0)\n",
        "#             self.variances[cls] = np.var(X_cls, axis=0)\n",
        "\n",
        "#     def calculate_likelihood(self, x, mean, var):\n",
        "#         \"\"\"\n",
        "#         Calculate the Gaussian likelihood of x given mean and variance.\n",
        "#         \"\"\"\n",
        "#         eps = 1e-9  # To prevent division by zero\n",
        "#         coeff = 1 / np.sqrt(2 * np.pi * (var + eps))\n",
        "#         exponent = np.exp(-((x - mean) ** 2) / (2 * (var + eps)))\n",
        "#         return coeff * exponent\n",
        "\n",
        "#     def predict_single(self, x):\n",
        "#         \"\"\"\n",
        "#         Predict the class for a single sample.\n",
        "#         \"\"\"\n",
        "#         posteriors = {}\n",
        "#         for cls in self.classes:\n",
        "#             prior = np.log(self.priors[cls])\n",
        "#             likelihood = np.sum(np.log(self.calculate_likelihood(x, self.means[cls], self.variances[cls])))\n",
        "#             posteriors[cls] = prior + likelihood\n",
        "#         return max(posteriors, key=posteriors.get)\n",
        "\n",
        "#     def predict(self, X):\n",
        "#         \"\"\"\n",
        "#         Predict classes for a dataset.\n",
        "#         \"\"\"\n",
        "#         return np.array([self.predict_single(x) for x in X])\n",
        "\n",
        "\n",
        "# def ensure_numeric(X):\n",
        "#     \"\"\"\n",
        "#     Convert non-numeric columns to numeric or drop them.\n",
        "#     \"\"\"\n",
        "#     numeric_X = X.copy()\n",
        "#     for col in X.columns:\n",
        "#         if X[col].dtype not in ['int64', 'float64']:\n",
        "#             numeric_X[col] = pd.to_numeric(X[col], errors='coerce')\n",
        "#     return numeric_X.dropna(axis=1)\n",
        "\n",
        "\n",
        "# X_train = ensure_numeric(pd.DataFrame(X_train))\n",
        "# X_val = ensure_numeric(pd.DataFrame(X_val))\n",
        "\n",
        "\n",
        "# X_train = X_train.values\n",
        "# X_val = X_val.values\n",
        "\n",
        "\n",
        "# model = GaussianNaiveBayes()\n",
        "# model.fit(X_train, y_train)\n",
        "\n",
        "\n",
        "# y_pred = model.predict(X_val)\n",
        "\n",
        "\n",
        "# def accuracy_score_manual(y_true, y_pred):\n",
        "#     correct = sum(y_t == y_p for y_t, y_p in zip(y_true, y_pred))\n",
        "#     return correct / len(y_true)\n",
        "\n",
        "# def classification_report_manual(y_true, y_pred):\n",
        "#     report = defaultdict(dict)\n",
        "#     classes = np.unique(y_true)\n",
        "\n",
        "#     for cls in classes:\n",
        "#         tp = sum((y_true == cls) & (y_pred == cls))\n",
        "#         fp = sum((y_true != cls) & (y_pred == cls))\n",
        "#         fn = sum((y_true == cls) & (y_pred != cls))\n",
        "#         tn = sum((y_true != cls) & (y_pred != cls))\n",
        "#         support = tp + fn\n",
        "\n",
        "#         precision = tp / (tp + fp) if (tp + fp) > 0 else 0\n",
        "#         recall = tp / (tp + fn) if (tp + fn) > 0 else 0\n",
        "#         f1_score = (2 * precision * recall) / (precision + recall) if (precision + recall) > 0 else 0\n",
        "\n",
        "#         report[cls] = {\n",
        "#             'precision': precision,\n",
        "#             'recall': recall,\n",
        "#             'f1-score': f1_score,\n",
        "#             'support': support\n",
        "#         }\n",
        "\n",
        "#     return report\n",
        "\n",
        "# accuracy = accuracy_score_manual(y_val, y_pred)\n",
        "# report = classification_report_manual(y_val, y_pred)\n",
        "\n",
        "\n",
        "# output_path = '/content/drive/My Drive/TUBES 2 AI/Model/gaussian_naive_bayes_model.joblib'\n",
        "# joblib.dump({'model': model, 'accuracy': accuracy, 'classification_report': report}, output_path)\n",
        "\n",
        "\n",
        "# loaded_data = joblib.load(output_path)\n",
        "# loaded_model = loaded_data['model']\n",
        "# loaded_accuracy = loaded_data['accuracy']\n",
        "# loaded_report = loaded_data['classification_report']\n",
        "\n",
        "\n",
        "# print(\"Model and results saved to:\", output_path)\n",
        "# print(\"Accuracy:\", loaded_accuracy)\n",
        "# for cls, metrics in loaded_report.items():\n",
        "#     print(f\"Class {cls}: {metrics}\")"
      ],
      "metadata": {
        "id": "C_XwsN_-LfHg",
        "colab": {
          "base_uri": "https://localhost:8080/"
        },
        "outputId": "dbe1d9db-e800-431c-8b95-2b891bae4fc8"
      },
      "execution_count": null,
      "outputs": [
        {
          "output_type": "stream",
          "name": "stdout",
          "text": [
            "Drive already mounted at /content/drive; to attempt to forcibly remount, call drive.mount(\"/content/drive\", force_remount=True).\n",
            "Model saved to: /content/drive/My Drive/TUBES 2 AI/Model/naive_bayes_model.pkl\n",
            "Encoders saved to: /content/drive/My Drive/TUBES 2 AI/Model/label_encoders.pkl\n",
            "Model and encoders loaded successfully.\n",
            "Accuracy: 0.9248246145080303\n",
            "\n",
            "Classification Report:\n",
            "               precision    recall  f1-score   support\n",
            "\n",
            "           0       0.00      0.00      0.00      2111\n",
            "           1       0.92      1.00      0.96     25970\n",
            "\n",
            "    accuracy                           0.92     28081\n",
            "   macro avg       0.46      0.50      0.48     28081\n",
            "weighted avg       0.86      0.92      0.89     28081\n",
            "\n"
          ]
        },
        {
          "output_type": "stream",
          "name": "stderr",
          "text": [
            "/usr/local/lib/python3.10/dist-packages/sklearn/metrics/_classification.py:1565: UndefinedMetricWarning: Precision is ill-defined and being set to 0.0 in labels with no predicted samples. Use `zero_division` parameter to control this behavior.\n",
            "  _warn_prf(average, modifier, f\"{metric.capitalize()} is\", len(result))\n",
            "/usr/local/lib/python3.10/dist-packages/sklearn/metrics/_classification.py:1565: UndefinedMetricWarning: Precision is ill-defined and being set to 0.0 in labels with no predicted samples. Use `zero_division` parameter to control this behavior.\n",
            "  _warn_prf(average, modifier, f\"{metric.capitalize()} is\", len(result))\n",
            "/usr/local/lib/python3.10/dist-packages/sklearn/metrics/_classification.py:1565: UndefinedMetricWarning: Precision is ill-defined and being set to 0.0 in labels with no predicted samples. Use `zero_division` parameter to control this behavior.\n",
            "  _warn_prf(average, modifier, f\"{metric.capitalize()} is\", len(result))\n"
          ]
        }
      ]
    },
    {
      "cell_type": "markdown",
      "source": [
        "## C. Improvements (Optional)\n",
        "\n",
        "- **Visualize the model evaluation result**\n",
        "\n",
        "This will help you to understand the details more clearly about your model's performance. From the visualization, you can see clearly if your model is leaning towards a class than the others. (Hint: confusion matrix, ROC-AUC curve, etc.)\n",
        "\n",
        "- **Explore the hyperparameters of your models**\n",
        "\n",
        "Each models have their own hyperparameters. And each of the hyperparameter have different effects on the model behaviour. You can optimize the model performance by finding the good set of hyperparameters through a process called **hyperparameter tuning**. (Hint: Grid search, random search, bayesian optimization)\n",
        "\n",
        "- **Cross-validation**\n",
        "\n",
        "Cross-validation is a critical technique in machine learning and data science for evaluating and validating the performance of predictive models. It provides a more **robust** and **reliable** evaluation method compared to a hold-out (single train-test set) validation. Though, it requires more time and computing power because of how cross-validation works. (Hint: k-fold cross-validation, stratified k-fold cross-validation, etc.)"
      ],
      "metadata": {
        "id": "LoH2u6fOLfHh"
      }
    },
    {
      "cell_type": "code",
      "source": [
        "# Type your code here"
      ],
      "metadata": {
        "id": "pg-A54yELfHh"
      },
      "execution_count": null,
      "outputs": []
    },
    {
      "cell_type": "markdown",
      "source": [
        "## D. Submission\n",
        "To predict the test set target feature and submit the results to the kaggle competition platform, do the following:\n",
        "1. Create a new pipeline instance identical to the first in Data Preprocessing\n",
        "2. With the pipeline, apply `fit_transform` to the original training set before splitting, then only apply `transform` to the test set.\n",
        "3. Retrain the model on the preprocessed training set\n",
        "4. Predict the test set\n",
        "5. Make sure the submission contains the `id` and `label` column.\n",
        "\n",
        "Note: Adjust step 1 and 2 to your implementation of the preprocessing step if you don't use pipeline API from `sklearn`."
      ],
      "metadata": {
        "id": "Li4l53DjLfHh"
      }
    },
    {
      "cell_type": "code",
      "source": [
        "# Type your code here"
      ],
      "metadata": {
        "id": "LeqnfWc-LfHi"
      },
      "execution_count": null,
      "outputs": []
    },
    {
      "cell_type": "markdown",
      "source": [
        "# 6. Error Analysis\n",
        "\n",
        "Based on all the process you have done until the modeling and evaluation step, write an analysis to support each steps you have taken to solve this problem. Write the analysis using the markdown block. Some questions that may help you in writing the analysis:\n",
        "\n",
        "- Does my model perform better in predicting one class than the other? If so, why is that?\n",
        "- To each models I have tried, which performs the best and what could be the reason?\n",
        "- Is it better for me to impute or drop the missing data? Why?\n",
        "- Does feature scaling help improve my model performance?\n",
        "- etc..."
      ],
      "metadata": {
        "id": "R-jXvKOpLfHi"
      }
    },
    {
      "cell_type": "markdown",
      "source": [
        "`Provide your analysis here`"
      ],
      "metadata": {
        "id": "tWL3nEAELfHj"
      }
    }
  ]
}